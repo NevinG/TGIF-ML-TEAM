{
 "cells": [
  {
   "cell_type": "code",
   "execution_count": 23,
   "metadata": {},
   "outputs": [],
   "source": [
    "import pandas as pd\n",
    "import numpy as np\n",
    "\n",
    "df = pd.read_csv('bill_data.csv')\n",
    "\n",
    "df.loc[df['house_bill'] == 1,'senate_committee_republicans'] = 0\n",
    "df.loc[df['house_bill'] == 1,'senate_committee_democrats'] = 0\n",
    "\n",
    "df.loc[df['senate_bill'] == 1,'house_committee_republicans'] = 0\n",
    "df.loc[df['senate_bill'] == 1,'house_committee_democrats'] = 0\n",
    "\n",
    "df.to_csv('new_bill_data.csv', mode='w',index=False)\n"
   ]
  }
 ],
 "metadata": {
  "kernelspec": {
   "display_name": "Python 3.10.7 ('env': venv)",
   "language": "python",
   "name": "python3"
  },
  "language_info": {
   "codemirror_mode": {
    "name": "ipython",
    "version": 3
   },
   "file_extension": ".py",
   "mimetype": "text/x-python",
   "name": "python",
   "nbconvert_exporter": "python",
   "pygments_lexer": "ipython3",
   "version": "3.10.7"
  },
  "orig_nbformat": 4,
  "vscode": {
   "interpreter": {
    "hash": "ff3068ec3b5457f7e605372206c0d59b94a13e1a25dc92058a9c23507c2ac47b"
   }
  }
 },
 "nbformat": 4,
 "nbformat_minor": 2
}
