{
 "cells": [
  {
   "cell_type": "code",
   "execution_count": 1,
   "metadata": {},
   "outputs": [
    {
     "name": "stderr",
     "output_type": "stream",
     "text": [
      "C:\\Users\\nevin\\AppData\\Local\\Temp\\ipykernel_20604\\1941443125.py:4: DtypeWarning: Columns (0,1,7) have mixed types. Specify dtype option on import or set low_memory=False.\n",
      "  df = pd.read_csv('bill_data.csv')\n"
     ]
    }
   ],
   "source": [
    "import pandas as pd\n",
    "import numpy as np\n",
    "\n",
    "df = pd.read_csv('bill_data.csv')\n",
    "\n",
    "df = df.sort_values(by=['legislative_session', 'senate_bill', 'bill_number'])\n",
    "\n"
   ]
  },
  {
   "cell_type": "code",
   "execution_count": 2,
   "metadata": {},
   "outputs": [],
   "source": [
    "df.to_csv('bill_data.csv', mode='w',index=False)"
   ]
  }
 ],
 "metadata": {
  "kernelspec": {
   "display_name": "Python 3.10.7 ('env': venv)",
   "language": "python",
   "name": "python3"
  },
  "language_info": {
   "codemirror_mode": {
    "name": "ipython",
    "version": 3
   },
   "file_extension": ".py",
   "mimetype": "text/x-python",
   "name": "python",
   "nbconvert_exporter": "python",
   "pygments_lexer": "ipython3",
   "version": "3.10.7"
  },
  "orig_nbformat": 4,
  "vscode": {
   "interpreter": {
    "hash": "ff3068ec3b5457f7e605372206c0d59b94a13e1a25dc92058a9c23507c2ac47b"
   }
  }
 },
 "nbformat": 4,
 "nbformat_minor": 2
}
