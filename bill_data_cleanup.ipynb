{
 "cells": [
  {
   "cell_type": "code",
   "execution_count": 1,
   "metadata": {},
   "outputs": [
    {
     "name": "stderr",
     "output_type": "stream",
     "text": [
      "C:\\Users\\nevin\\AppData\\Local\\Temp\\ipykernel_20604\\1941443125.py:4: DtypeWarning: Columns (0,1,7) have mixed types. Specify dtype option on import or set low_memory=False.\n",
      "  df = pd.read_csv('bill_data.csv')\n"
     ]
    }
   ],
   "source": [
    "import pandas as pd\n",
    "import numpy as np\n",
    "\n",
    "df = pd.read_csv('bill_data.csv')\n",
    "\n",
    "df = df.sort_values(by=['legislative_session', 'senate_bill', 'bill_number'])\n",
    "\n"
   ]
  },
  {
   "cell_type": "code",
   "execution_count": 2,
   "metadata": {},
   "outputs": [],
   "source": [
    "df.to_csv('bill_data.csv', mode='w',index=False)"
   ]
  }
 ],
 "metadata": {
  "kernelspec": {
   "display_name": "Python 3.9.9 ('env': venv)",
   "language": "python",
   "name": "python3"
  },
  "language_info": {
   "codemirror_mode": {
    "name": "ipython",
    "version": 3
   },
   "file_extension": ".py",
   "mimetype": "text/x-python",
   "name": "python",
   "nbconvert_exporter": "python",
   "pygments_lexer": "ipython3",
   "version": "3.9.9"
  },
  "orig_nbformat": 4,
  "vscode": {
   "interpreter": {
    "hash": "93852211600ccefbdb169654b06d2102ebb861e4e6393521c3f1c60f99b3ba28"
   }
  }
 },
 "nbformat": 4,
 "nbformat_minor": 2
}
